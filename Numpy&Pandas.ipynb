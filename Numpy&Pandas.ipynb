{
  "cells": [
    {
      "cell_type": "markdown",
      "metadata": {
        "id": "BN9XovIYcZmS"
      },
      "source": [
        "#My Info\n",
        "* This is Meghanshu Verma.\n",
        "* You can reach out to me via:\n",
        "    * Linkedin : `Meghanshu Verma`\n",
        "    * Email :` 2021UEE0148@iitjammu.ac.in` - Official Mail only\n",
        "    * Twitter: `IM_Meghanshu`\n",
        "* All the content is design by me for Nucleon.\n",
        "* Please pardon my mistakes and typos, \"Feeling ko smjhna, Sabdo ko nahi.\""
      ]
    },
    {
      "cell_type": "markdown",
      "metadata": {
        "id": "XjrMBJQu_Q1h"
      },
      "source": [
        "#Numpy\n",
        "- Array-processing lib for python. Not only for 'Data Science' but for many scientific and engineering use.\n",
        "- Multi-dimensional container (multi-axes)\n",
        "- Here are the resourses:\n",
        "    - https://numpy.org/learn/\n",
        "    - https://numpy.org/devdocs/user/quickstart.html\n",
        "    - https://sites.engineering.ucsb.edu/~shell/che210d/numpy.pdf"
      ]
    },
    {
      "cell_type": "markdown",
      "metadata": {
        "id": "YWfWikad_YGQ"
      },
      "source": [
        "##Setup\n",
        "You need to setup Numpy in your local machine as follows:\n",
        "https://numpy.org/install/"
      ]
    },
    {
      "cell_type": "code",
      "execution_count": null,
      "metadata": {
        "colab": {
          "base_uri": "https://localhost:8080/"
        },
        "id": "8126i0MOA9mq",
        "outputId": "bc06e625-7a6d-47b4-dce1-6b7cd099b814"
      },
      "outputs": [
        {
          "name": "stdout",
          "output_type": "stream",
          "text": [
            "Looking in indexes: https://pypi.org/simple, https://us-python.pkg.dev/colab-wheels/public/simple/\n",
            "Requirement already satisfied: Numpy in /usr/local/lib/python3.10/dist-packages (1.22.4)\n"
          ]
        }
      ],
      "source": [
        "!pip install Numpy"
      ]
    },
    {
      "cell_type": "code",
      "execution_count": null,
      "metadata": {
        "colab": {
          "base_uri": "https://localhost:8080/",
          "height": 35
        },
        "id": "fkCoP-VYBL9q",
        "outputId": "a1e04494-b0a0-4413-bcc3-a965c517d31e"
      },
      "outputs": [
        {
          "output_type": "execute_result",
          "data": {
            "text/plain": [
              "'1.22.4'"
            ],
            "application/vnd.google.colaboratory.intrinsic+json": {
              "type": "string"
            }
          },
          "metadata": {},
          "execution_count": 2
        }
      ],
      "source": [
        "#check version\n",
        "import numpy as np\n",
        "np.__version__"
      ]
    },
    {
      "cell_type": "markdown",
      "metadata": {
        "id": "iaqgF9O1BdD5"
      },
      "source": [
        "##Get started with Numpy\n",
        "Our objective:\n",
        "* Understand the difference between one-, two- and n-dimensional arrays in NumPy;\n",
        "\n",
        "* Understand how to apply some linear algebra operations to n-dimensional arrays without using for-loops;\n",
        "\n",
        "* Understand axis and shape properties for n-dimensional arrays."
      ]
    },
    {
      "cell_type": "code",
      "execution_count": null,
      "metadata": {
        "colab": {
          "base_uri": "https://localhost:8080/"
        },
        "id": "5NGzDJAWCBzi",
        "outputId": "66d70300-8a01-4906-d745-42ffa79b3daf"
      },
      "outputs": [
        {
          "data": {
            "text/plain": [
              "['Apple', 'Kiwi', 'Orange', 'Mango']"
            ]
          },
          "execution_count": 10,
          "metadata": {},
          "output_type": "execute_result"
        }
      ],
      "source": [
        "#List: Lists are used to store multiple items in a single variable.\n",
        "fruits = [\"Apple\", \"Kiwi\", \"Orange\", \"Mango\"]\n",
        "fruits"
      ]
    },
    {
      "cell_type": "code",
      "execution_count": null,
      "metadata": {
        "colab": {
          "base_uri": "https://localhost:8080/",
          "height": 35
        },
        "id": "HA2ZIDgZDXsI",
        "outputId": "040b7e41-5b24-450f-eb55-f5ac100b59c8"
      },
      "outputs": [
        {
          "data": {
            "application/vnd.google.colaboratory.intrinsic+json": {
              "type": "string"
            },
            "text/plain": [
              "'Apple'"
            ]
          },
          "execution_count": 11,
          "metadata": {},
          "output_type": "execute_result"
        }
      ],
      "source": [
        "fruits[0]"
      ]
    },
    {
      "cell_type": "code",
      "execution_count": null,
      "metadata": {
        "colab": {
          "base_uri": "https://localhost:8080/"
        },
        "id": "aDxD-D0ODboC",
        "outputId": "5d7ef865-6f30-4dc5-e89a-311db661d644"
      },
      "outputs": [
        {
          "data": {
            "text/plain": [
              "[1, 3, 3, 46, 7, 5]"
            ]
          },
          "execution_count": 12,
          "metadata": {},
          "output_type": "execute_result"
        }
      ],
      "source": [
        "a = list([1,3,3,46,7,5]) #As we have object in which we are creating our list.\n",
        "a"
      ]
    },
    {
      "cell_type": "code",
      "execution_count": null,
      "metadata": {
        "id": "pCvB3Nm0Drh4"
      },
      "outputs": [],
      "source": [
        "list_in_list = [1,\"Yash\",['a','e']]\n",
        "list_in_list"
      ]
    },
    {
      "cell_type": "code",
      "execution_count": null,
      "metadata": {
        "colab": {
          "base_uri": "https://localhost:8080/"
        },
        "id": "jbOsvGqaE0J2",
        "outputId": "b942d274-e6b9-4b70-aaed-e2f99457fc2a"
      },
      "outputs": [
        {
          "data": {
            "text/plain": [
              "['a', 'apple', 12, ['1', 1, 1, '1']]"
            ]
          },
          "execution_count": 13,
          "metadata": {},
          "output_type": "execute_result"
        }
      ],
      "source": [
        "list_with_diff_data_type = ['a',\"apple\",12,['1',1,1,'1']]\n",
        "list_with_diff_data_type"
      ]
    },
    {
      "cell_type": "code",
      "execution_count": null,
      "metadata": {
        "id": "t97vHrAvI_0l"
      },
      "outputs": [],
      "source": [
        "#indexing <Code>"
      ]
    },
    {
      "cell_type": "code",
      "execution_count": null,
      "metadata": {
        "id": "BSmSa2ftIjLw"
      },
      "outputs": [],
      "source": [
        "#can you append in a list ? <Code>"
      ]
    },
    {
      "cell_type": "markdown",
      "metadata": {
        "id": "dXyquDNIEVQx"
      },
      "source": [
        "* Linked list v/s array : https://www.youtube.com/watch?v=DyG9S9nAlUM\n",
        "* futher info(Optional) :https://www.youtube.com/watch?v=XETZoRYdtkw(On memory)"
      ]
    },
    {
      "cell_type": "code",
      "execution_count": null,
      "metadata": {
        "colab": {
          "base_uri": "https://localhost:8080/"
        },
        "id": "ETPx-mxwPklX",
        "outputId": "b9cb04d0-f8fd-4869-8402-f48b9cd339d3"
      },
      "outputs": [
        {
          "name": "stdout",
          "output_type": "stream",
          "text": [
            "Time with lists: 0.18145778300004167\n",
            "Time with array: 0.0034801960000550025\n",
            "Ratio 52.140104464568616\n"
          ]
        }
      ],
      "source": [
        "# Just a demo, it's only for viewing purpose.\n",
        "\n",
        "# speed test lists vs array\n",
        "from timeit import default_timer as timer\n",
        "\n",
        "a = np.random.randn(1000)\n",
        "b = np.random.randn(1000)\n",
        "\n",
        "A = list(a)\n",
        "B = list(b)\n",
        "\n",
        "T = 1000\n",
        "\n",
        "def dot1():\n",
        "    dot = 0\n",
        "    for i in range(len(A)):\n",
        "        dot += A[i]*B[i]\n",
        "    return dot\n",
        "\n",
        "def dot2():\n",
        "    return np.dot(a,b)\n",
        "\n",
        "start = timer()\n",
        "for t in range(T):\n",
        "    dot1()\n",
        "end = timer()\n",
        "t1 = end-start\n",
        "\n",
        "start = timer()\n",
        "for t in range(T):\n",
        "    dot2()\n",
        "end = timer()\n",
        "t2 = end-start\n",
        "\n",
        "print('Time with lists:', t1)\n",
        "print('Time with array:', t2)\n",
        "print('Ratio', t1/t2)"
      ]
    },
    {
      "cell_type": "markdown",
      "metadata": {
        "id": "XfpcG2WQEdsy"
      },
      "source": [
        "Array: An array is a vector containing homogeneous elements i.e\n",
        ". belonging to the same data type.\n",
        "Elements are allocated with contiguous memory locations. Typically the size of an array is fixed.\n",
        "Insertion and Deletion costs high as compare to List however indexing is fast in the Arrays due to contiguous memory allocation\""
      ]
    },
    {
      "cell_type": "code",
      "execution_count": null,
      "metadata": {
        "colab": {
          "base_uri": "https://localhost:8080/"
        },
        "id": "805GR347Ex-y",
        "outputId": "7a928821-ae14-4635-ae85-54cfc80b22d0"
      },
      "outputs": [
        {
          "name": "stdout",
          "output_type": "stream",
          "text": [
            "Following is arrayA: \n",
            "[ 1  3  3 46  7  5] \n",
            "\n",
            "Following is arrayB: \n",
            "[1 2 3 4 6 7] \n",
            "\n"
          ]
        }
      ],
      "source": [
        "array_a = np.array(a) #through list.\n",
        "print(f\"Following is arrayA: \\n{array_a} \\n\")\n",
        "\n",
        "b = (1,2,3,4,6,7)\n",
        "array_b = np.array(b)#through tuple.\n",
        "print(f\"Following is arrayB: \\n{array_b} \\n\")"
      ]
    },
    {
      "cell_type": "code",
      "execution_count": null,
      "metadata": {
        "id": "dlGHZW8_KOg4"
      },
      "outputs": [],
      "source": [
        "#try to code 2D array by np.array <Code>"
      ]
    },
    {
      "cell_type": "code",
      "execution_count": null,
      "metadata": {
        "id": "b9Oxhn03LQFE"
      },
      "outputs": [],
      "source": [
        "#try with tuple <Code>"
      ]
    },
    {
      "cell_type": "code",
      "execution_count": null,
      "metadata": {
        "colab": {
          "base_uri": "https://localhost:8080/"
        },
        "id": "dpqm9jFcMzam",
        "outputId": "705cea95-319f-4581-9824-eddc9b42841f"
      },
      "outputs": [
        {
          "name": "stdout",
          "output_type": "stream",
          "text": [
            "[[1 2]\n",
            " [3 4]]\n",
            "(2, 2)\n"
          ]
        }
      ],
      "source": [
        "a = np.array([[1,2], [3,4]])\n",
        "print(a)\n",
        "print(a.shape)"
      ]
    },
    {
      "cell_type": "code",
      "execution_count": null,
      "metadata": {
        "colab": {
          "base_uri": "https://localhost:8080/"
        },
        "id": "ngII4fmaNQW-",
        "outputId": "5b2625fd-762b-483f-aa50-54cd1a58a1a9"
      },
      "outputs": [
        {
          "data": {
            "text/plain": [
              "(array([[1, 2, 3],\n",
              "        [4, 5, 6],\n",
              "        [7, 8, 0]]),\n",
              " (3, 3),\n",
              " 2,\n",
              " 9,\n",
              " dtype('int64'))"
            ]
          },
          "execution_count": 44,
          "metadata": {},
          "output_type": "execute_result"
        }
      ],
      "source": [
        "array3d = np.array([[1,2,3],[4,5,6],[7,8,0]])\n",
        "array3d , array3d.shape , array3d.ndim , array3d.size , array3d.dtype\n",
        "#array vs ndarray, the following is ndarray. <Google Search> <OpenAI Search>"
      ]
    },
    {
      "cell_type": "code",
      "execution_count": null,
      "metadata": {
        "id": "RbTul-5UZbn8"
      },
      "outputs": [],
      "source": [
        "#Access and change elements. <Code>"
      ]
    },
    {
      "cell_type": "markdown",
      "metadata": {
        "id": "LCvY0XofPZRH"
      },
      "source": [
        "##Basics"
      ]
    },
    {
      "cell_type": "code",
      "execution_count": null,
      "metadata": {
        "colab": {
          "base_uri": "https://localhost:8080/"
        },
        "id": "zPmYTXR6Rd9h",
        "outputId": "c12f56a2-fea3-4b0f-9f3d-a12ad7842083"
      },
      "outputs": [
        {
          "data": {
            "text/plain": [
              "array(17)"
            ]
          },
          "execution_count": 45,
          "metadata": {},
          "output_type": "execute_result"
        }
      ],
      "source": [
        "zero_axis = np.array(17)\n",
        "zero_axis #basically called scalar."
      ]
    },
    {
      "cell_type": "code",
      "execution_count": null,
      "metadata": {
        "colab": {
          "base_uri": "https://localhost:8080/"
        },
        "id": "yrswd8gyrxro",
        "outputId": "4a256f31-3064-49af-b3a2-c5a13f0b0241"
      },
      "outputs": [
        {
          "data": {
            "text/plain": [
              "0"
            ]
          },
          "execution_count": 47,
          "metadata": {},
          "output_type": "execute_result"
        }
      ],
      "source": [
        "zero_axis.ndim"
      ]
    },
    {
      "cell_type": "code",
      "execution_count": null,
      "metadata": {
        "colab": {
          "base_uri": "https://localhost:8080/"
        },
        "id": "AdnawPexsFPb",
        "outputId": "da6dc7fa-cf15-4f53-f100-2746c917a27b"
      },
      "outputs": [
        {
          "data": {
            "text/plain": [
              "(array([1, 2, 3]), 1)"
            ]
          },
          "execution_count": 49,
          "metadata": {},
          "output_type": "execute_result"
        }
      ],
      "source": [
        "one_axis = np.array([1,2,3])\n",
        "one_axis , one_axis.ndim #called a vector,"
      ]
    },
    {
      "cell_type": "code",
      "execution_count": null,
      "metadata": {
        "colab": {
          "base_uri": "https://localhost:8080/"
        },
        "id": "rWcTyF0UsaT6",
        "outputId": "c05c5e50-2eb7-4a71-d115-237bd9b8b9d5"
      },
      "outputs": [
        {
          "data": {
            "text/plain": [
              "array([[1., 2.],\n",
              "       [2., 0.]])"
            ]
          },
          "execution_count": 50,
          "metadata": {},
          "output_type": "execute_result"
        }
      ],
      "source": [
        "two_axis = np.array([[1,2],[2,0.0]])\n",
        "two_axis #called matrix"
      ]
    },
    {
      "cell_type": "code",
      "execution_count": null,
      "metadata": {
        "id": "Gf_mYL6ksmNa"
      },
      "outputs": [],
      "source": [
        "#Check the config of the 2 axis <Code>"
      ]
    },
    {
      "cell_type": "code",
      "execution_count": null,
      "metadata": {
        "id": "iTHecqT0ss0Z"
      },
      "outputs": [],
      "source": [
        "#Create a 4d array <Code>"
      ]
    },
    {
      "cell_type": "code",
      "execution_count": null,
      "metadata": {
        "id": "IWEUtogosw8T"
      },
      "outputs": [],
      "source": [
        "#Create a 4d array as real life random image. <Code>"
      ]
    },
    {
      "cell_type": "code",
      "execution_count": null,
      "metadata": {
        "id": "eV3uhdOes5hL"
      },
      "outputs": [],
      "source": [
        "a = np.arange(15)\n",
        "a.reshape(3,-1)"
      ]
    },
    {
      "cell_type": "code",
      "execution_count": null,
      "metadata": {
        "id": "G4hjMUNFtRtK"
      },
      "outputs": [],
      "source": [
        "#Above code in a line. <Code>"
      ]
    },
    {
      "cell_type": "code",
      "execution_count": null,
      "metadata": {
        "id": "joNqImkMtXMF"
      },
      "outputs": [],
      "source": [
        "zeros = np.zeros(shape = (3,3), dtype = float)\n",
        "ones = np.ones(shape = (3,3),dtype= int)\n",
        "empty = np.empty(shape = ones.shape, dtype = zeros.dtype)"
      ]
    },
    {
      "cell_type": "code",
      "execution_count": null,
      "metadata": {
        "id": "Z6S9VcLluC56"
      },
      "outputs": [],
      "source": [
        "#Explain above <Code>"
      ]
    },
    {
      "cell_type": "code",
      "execution_count": null,
      "metadata": {
        "colab": {
          "base_uri": "https://localhost:8080/"
        },
        "id": "hDyNmrn7uol1",
        "outputId": "6971fb9a-6503-4286-f41a-b4d33b6a487b"
      },
      "outputs": [
        {
          "data": {
            "text/plain": [
              "array([[0.78682299, 0.55779471, 0.98266691],\n",
              "       [0.85144622, 0.92652416, 0.9512131 ],\n",
              "       [0.42982233, 0.350019  , 0.26360861]])"
            ]
          },
          "execution_count": 63,
          "metadata": {},
          "output_type": "execute_result"
        }
      ],
      "source": [
        "rnd = np.random.rand(3,3)\n",
        "rnd"
      ]
    },
    {
      "cell_type": "code",
      "source": [
        "arraynew = np.full((2,2), 0.01, dtype= \"float32\")\n",
        "arraynew_a = np.full_like(arraynew.shape, 0.2)\n",
        "arraynew, arraynew_a"
      ],
      "metadata": {
        "colab": {
          "base_uri": "https://localhost:8080/"
        },
        "id": "urTn76i8W7F7",
        "outputId": "f69f218d-92db-4198-f065-7912b5650051"
      },
      "execution_count": null,
      "outputs": [
        {
          "output_type": "execute_result",
          "data": {
            "text/plain": [
              "(array([[0.01, 0.01],\n",
              "        [0.01, 0.01]], dtype=float32),\n",
              " array([0, 0]))"
            ]
          },
          "metadata": {},
          "execution_count": 6
        }
      ]
    },
    {
      "cell_type": "code",
      "source": [
        "arraynew_a = np.full_like(arraynew.size, 0.2)\n",
        "arraynew_a"
      ],
      "metadata": {
        "colab": {
          "base_uri": "https://localhost:8080/"
        },
        "id": "DOT3zQeIX8Di",
        "outputId": "ea48fc5c-bc2c-40e2-bd06-c483286cd5ef"
      },
      "execution_count": null,
      "outputs": [
        {
          "output_type": "execute_result",
          "data": {
            "text/plain": [
              "array(0)"
            ]
          },
          "metadata": {},
          "execution_count": 9
        }
      ]
    },
    {
      "cell_type": "code",
      "source": [
        "arraynew_a = np.full_like(arraynew, 0.2)\n",
        "arraynew_a"
      ],
      "metadata": {
        "colab": {
          "base_uri": "https://localhost:8080/"
        },
        "id": "_OwAmy-KYczI",
        "outputId": "964026af-32eb-4d1a-b0dc-87305352e163"
      },
      "execution_count": null,
      "outputs": [
        {
          "output_type": "execute_result",
          "data": {
            "text/plain": [
              "array([[0.2, 0.2],\n",
              "       [0.2, 0.2]], dtype=float32)"
            ]
          },
          "metadata": {},
          "execution_count": 11
        }
      ]
    },
    {
      "cell_type": "code",
      "source": [],
      "metadata": {
        "id": "CeBl35dzYliH"
      },
      "execution_count": null,
      "outputs": []
    },
    {
      "cell_type": "markdown",
      "metadata": {
        "id": "eOYIKPPnvqAG"
      },
      "source": [
        "##Operations\n",
        "Refere to: https://numpy.org/doc/stable/reference/routines.linalg.html"
      ]
    },
    {
      "cell_type": "code",
      "execution_count": null,
      "metadata": {
        "colab": {
          "base_uri": "https://localhost:8080/"
        },
        "id": "S7a4swE_vuFy",
        "outputId": "c31b40d5-1761-4430-fb25-b363a47c5d33"
      },
      "outputs": [
        {
          "data": {
            "text/plain": [
              "[1, 2, 3, 0, 9, 8]"
            ]
          },
          "execution_count": 3,
          "metadata": {},
          "output_type": "execute_result"
        }
      ],
      "source": [
        "a = list([1,2,3])\n",
        "b = list([0,9,8])\n",
        "a+b"
      ]
    },
    {
      "cell_type": "code",
      "execution_count": null,
      "metadata": {
        "colab": {
          "base_uri": "https://localhost:8080/"
        },
        "id": "1_4gS2wTv28z",
        "outputId": "1ca23d56-b254-4da4-9e3c-366c00c35e03"
      },
      "outputs": [
        {
          "data": {
            "text/plain": [
              "array([ 1, 11, 11])"
            ]
          },
          "execution_count": 4,
          "metadata": {},
          "output_type": "execute_result"
        }
      ],
      "source": [
        "arr_a = np.array(a)\n",
        "arr_b = np.array(b)\n",
        "\n",
        "arr_a + arr_b"
      ]
    },
    {
      "cell_type": "code",
      "execution_count": null,
      "metadata": {
        "id": "0QcC6QIhxNOb"
      },
      "outputs": [],
      "source": [
        "exp_complex = np.exp(arr_a * 3j)\n",
        "exp_complex"
      ]
    },
    {
      "cell_type": "code",
      "execution_count": null,
      "metadata": {
        "colab": {
          "base_uri": "https://localhost:8080/"
        },
        "id": "3oCcj6D0xmGZ",
        "outputId": "f9ad8967-87ff-41d5-f0d1-3adc50b0cb2b"
      },
      "outputs": [
        {
          "data": {
            "text/plain": [
              "array([1.9899925 -0.14112001j, 1.03982971+0.2794155j ,\n",
              "       3.91113026-0.41211849j])"
            ]
          },
          "execution_count": 79,
          "metadata": {},
          "output_type": "execute_result"
        }
      ],
      "source": [
        "arr_a - exp_complex"
      ]
    },
    {
      "cell_type": "code",
      "execution_count": null,
      "metadata": {
        "colab": {
          "base_uri": "https://localhost:8080/"
        },
        "id": "RextKQekxxQb",
        "outputId": "db551d59-35f0-4f3f-cdf8-fd6f418846e6"
      },
      "outputs": [
        {
          "data": {
            "text/plain": [
              "array([0.        , 3.        , 2.82842712])"
            ]
          },
          "execution_count": 81,
          "metadata": {},
          "output_type": "execute_result"
        }
      ],
      "source": [
        "arr_k = np.sqrt(arr_b)\n",
        "arr_k"
      ]
    },
    {
      "cell_type": "code",
      "execution_count": null,
      "metadata": {
        "colab": {
          "base_uri": "https://localhost:8080/"
        },
        "id": "PWLNJggDx-Dn",
        "outputId": "9e08f20b-b898-4690-a3eb-661c4f3b0f88"
      },
      "outputs": [
        {
          "data": {
            "text/plain": [
              "array([ 0.        , 21.        , 18.82842712])"
            ]
          },
          "execution_count": 84,
          "metadata": {},
          "output_type": "execute_result"
        }
      ],
      "source": [
        "arr_k = np.add(arr_k + arr_b) #solve the bug."
      ]
    },
    {
      "cell_type": "code",
      "execution_count": null,
      "metadata": {
        "colab": {
          "base_uri": "https://localhost:8080/"
        },
        "id": "D6H_h8BUYpXz",
        "outputId": "85981eb4-b343-4908-9948-6142ca1b0f73"
      },
      "outputs": [
        {
          "data": {
            "text/plain": [
              "array([ 0, 18, 24])"
            ]
          },
          "execution_count": 6,
          "metadata": {},
          "output_type": "execute_result"
        }
      ],
      "source": [
        "arr_m = arr_a*arr_b\n",
        "arr_m"
      ]
    },
    {
      "cell_type": "code",
      "source": [
        "dot = np.dot(a,b)\n",
        "print(dot)"
      ],
      "metadata": {
        "id": "sm7a1kpIHtPV"
      },
      "execution_count": null,
      "outputs": []
    },
    {
      "cell_type": "code",
      "source": [
        "# in newer versions\n",
        "dot = a @ b\n",
        "print(dot)"
      ],
      "metadata": {
        "id": "IpsMvS9ZH3ts"
      },
      "execution_count": null,
      "outputs": []
    },
    {
      "cell_type": "code",
      "source": [
        "# determinant\n",
        "c = np.linalg.det(a)\n",
        "print(c)\n",
        "\n",
        "# inverse\n",
        "c = np.linalg.inv(a)\n",
        "print(c)\n",
        "\n",
        "# diag\n",
        "c = np.diag(a)\n",
        "print(c)\n",
        "\n",
        "# diag on a vector returns diagonal matrix (overloaded function)\n",
        "c = np.diag([1,4])\n",
        "print(c)"
      ],
      "metadata": {
        "id": "FKTE7aKyIFdb"
      },
      "execution_count": null,
      "outputs": []
    },
    {
      "cell_type": "markdown",
      "metadata": {
        "id": "9CNKioF-ypkI"
      },
      "source": [
        "##Manupluation"
      ]
    },
    {
      "cell_type": "code",
      "execution_count": null,
      "metadata": {
        "id": "fi_l4-ZnyPWN"
      },
      "outputs": [],
      "source": [
        "# a = np.floor(10 * rg.random((2, 2)))\n",
        "# a\n",
        "# array([[9., 7.],\n",
        "#        [5., 2.]])\n",
        "# b = np.floor(10 * rg.random((2, 2)))\n",
        "# b\n",
        "# array([[1., 9.],\n",
        "#        [5., 1.]])\n",
        "# np.vstack((a, b))\n",
        "# array([[9., 7.],\n",
        "#        [5., 2.],\n",
        "#        [1., 9.],\n",
        "#        [5., 1.]])\n",
        "# np.hstack((a, b))\n",
        "# array([[9., 7., 1., 9.],\n",
        "#        [5., 2., 5., 1.]])\n"
      ]
    },
    {
      "cell_type": "code",
      "execution_count": null,
      "metadata": {
        "id": "Zku_nk-pyoKa"
      },
      "outputs": [],
      "source": [
        "# a = np.floor(10 * rg.random((2, 12)))\n",
        "# a\n",
        "# array([[6., 7., 6., 9., 0., 5., 4., 0., 6., 8., 5., 2.],\n",
        "#        [8., 5., 5., 7., 1., 8., 6., 7., 1., 8., 1., 0.]])\n",
        "# # Split `a` into 3\n",
        "# np.hsplit(a, 3)\n",
        "# [array([[6., 7., 6., 9.],\n",
        "#        [8., 5., 5., 7.]]), array([[0., 5., 4., 0.],\n",
        "#        [1., 8., 6., 7.]]), array([[6., 8., 5., 2.],\n",
        "#        [1., 8., 1., 0.]])]\n",
        "# # Split `a` after the third and the fourth column\n",
        "# np.hsplit(a, (3, 4))\n",
        "# [array([[6., 7., 6.],\n",
        "#        [8., 5., 5.]]), array([[9.],\n",
        "#        [7.]]), array([[0., 5., 4., 0., 6., 8., 5., 2.],\n",
        "#        [1., 8., 6., 7., 1., 8., 1., 0.]])]"
      ]
    },
    {
      "cell_type": "code",
      "source": [
        "arr = np.array([1, 2, 3, 4, 5, 6])\n",
        "newarr = np.array_split(arr, 3)\n",
        "newarr"
      ],
      "metadata": {
        "id": "iQVE0Q1TQglG"
      },
      "execution_count": null,
      "outputs": []
    },
    {
      "cell_type": "code",
      "source": [
        "arr = np.array([[1, 2, 3], [4, 5, 6], [7, 8, 9], [10, 11, 12], [13, 14, 15], [16, 17, 18]])\n",
        "\n",
        "newarr = np.array_split(arr, 3)\n",
        "\n",
        "print(newarr)"
      ],
      "metadata": {
        "id": "515N9s-pQoXN"
      },
      "execution_count": null,
      "outputs": []
    },
    {
      "cell_type": "code",
      "source": [],
      "metadata": {
        "id": "VfkGQP5MQ1VT"
      },
      "execution_count": null,
      "outputs": []
    },
    {
      "cell_type": "markdown",
      "metadata": {
        "id": "8EInZQenZ0b5"
      },
      "source": [
        "Below is a list of all data types in NumPy and the characters used to represent them:\n",
        "* i - integer\n",
        "* b - boolean\n",
        "* u - unsigned integer\n",
        "* f - float\n",
        "* c - complex float\n",
        "* m - timedelta\n",
        "* M - datetime\n",
        "* O - object\n",
        "* S - string\n",
        "* U - unicode string\n",
        "* V - fixed chunk of memory for other type ( void )"
      ]
    },
    {
      "cell_type": "code",
      "execution_count": null,
      "metadata": {
        "colab": {
          "base_uri": "https://localhost:8080/"
        },
        "id": "ErCqg1fyaHiq",
        "outputId": "726b2622-b38e-40f8-b17e-62ec73864254"
      },
      "outputs": [
        {
          "data": {
            "text/plain": [
              "array([[ 93, 108, 123, 139],\n",
              "       [105, 116, 127, 139],\n",
              "       [ 70,  84,  99, 113],\n",
              "       [ 97, 107, 118, 129]], dtype=int32)"
            ]
          },
          "execution_count": 19,
          "metadata": {},
          "output_type": "execute_result"
        }
      ],
      "source": [
        "array = np.arange(-10,90,5).reshape(5,-1)\n",
        "rnd_array = np.random.rand(4,5)\n",
        "array_a = rnd_array@array #Matmut\n",
        "array_b = np.array(array_a , dtype = 'i4')\n",
        "array_b"
      ]
    },
    {
      "cell_type": "code",
      "execution_count": null,
      "metadata": {
        "id": "cthY86_Dbs8t"
      },
      "outputs": [],
      "source": [
        "array_a == array_b #Question"
      ]
    },
    {
      "cell_type": "code",
      "execution_count": null,
      "metadata": {
        "id": "4H6iuGp2cXR_"
      },
      "outputs": [],
      "source": [
        "#Creating a Identity matrix but not by Indentity. <Code>"
      ]
    },
    {
      "cell_type": "code",
      "execution_count": null,
      "metadata": {
        "id": "rrDad_ThectK"
      },
      "outputs": [],
      "source": [
        "#Create a Hamiltonian Matrix (Quantum Computing Basics) <Let Them Code.>\n",
        "# https://en.wikipedia.org/wiki/Hamiltonian_matrix --> Only reference, you need."
      ]
    },
    {
      "cell_type": "markdown",
      "metadata": {
        "id": "jwViUGQzfnMO"
      },
      "source": [
        "##Less Basic.\n",
        "Now we are moving to a bit of Advanced version. The intersting stuff."
      ]
    },
    {
      "cell_type": "code",
      "execution_count": null,
      "metadata": {
        "id": "amrDPY71iCpR"
      },
      "outputs": [],
      "source": [
        "#Indexing with Arrays of Indices. <Code>"
      ]
    },
    {
      "cell_type": "code",
      "execution_count": null,
      "metadata": {
        "id": "1xrpd6j5iU_k"
      },
      "outputs": [],
      "source": [
        "a = np.arange(12)**2  # the first 12 square numbers\n",
        "i = np.array([1, 1, 3, 8, 5])  # an array of indices\n",
        "a[i]  # the elements of `a` at the positions `i`\n",
        "j = np.array([[3, 4], [9, 7]])  # a bidimensional array of indices\n",
        "a[j]  # the same shape as `j`"
      ]
    },
    {
      "cell_type": "code",
      "source": [
        "# broadcasting\n",
        "# Broadcasting is a powerful mechanism that allows numpy to work with arrays of\n",
        "# different shapes when performing arithmetic operations.\n",
        "x = np.array([[1,2,3], [4,5,6], [7,8,9], [10, 11, 12]])\n",
        "v = np.array([1, 0, 1])\n",
        "y = x + v  # Add v to each row of x using broadcasting\n",
        "print(y)"
      ],
      "metadata": {
        "id": "pixbl4dT4RoC"
      },
      "execution_count": null,
      "outputs": []
    },
    {
      "cell_type": "code",
      "source": [
        "def myadd(x, y):\n",
        "  return x+y\n",
        "\n",
        "myadd = np.frompyfunc(myadd, 2, 1)\n",
        "\n",
        "print(myadd([1, 2, 3, 4], [5, 6, 7, 8]))"
      ],
      "metadata": {
        "id": "1QeME3cbShqZ"
      },
      "execution_count": null,
      "outputs": []
    },
    {
      "cell_type": "markdown",
      "source": [
        "##Play with files and stats\n",
        "- Also check out: https://github.com/numpy/numpy-tutorials/blob/main/content/save-load-arrays.md\n"
      ],
      "metadata": {
        "id": "kzb-uxMnIpMT"
      }
    },
    {
      "cell_type": "code",
      "source": [
        "a = np.array([[7,8,9,10,11,12,13], [17,18,19,20,21,22,23]])\n",
        "print(a)\n",
        "print(a.sum(axis=None)) # overall sum\n",
        "print(a.sum())\n",
        "print(a.sum(axis=0)) # along the rows -> 1 sum entry for each column\n",
        "print(a.sum(axis=1)) # along the columns -> 1 sum entry for each row\n",
        "\n",
        "print(a.mean(axis=None)) # overall mean\n",
        "print(a.mean())\n",
        "print(a.mean(axis=0)) # along the rows -> 1 mean entry for each column\n",
        "print(a.mean(axis=1)) # along the columns -> 1 mean entry for each row\n",
        "\n",
        "# some more: std, var, min, max"
      ],
      "metadata": {
        "id": "Eojcu6yXJJ0-"
      },
      "execution_count": null,
      "outputs": []
    },
    {
      "cell_type": "code",
      "source": [
        "# datatypes\n",
        "# https://numpy.org/devdocs/user/basics.types.html\n",
        "# Let numpy choose the datatype\n",
        "x = np.array([1, 2])\n",
        "print(x.dtype)\n",
        "\n",
        "# Let numpy choose the datatype\n",
        "x = np.array([1.0, 2.0])\n",
        "print(x.dtype)\n",
        "\n",
        "# Force a particular datatype, how many bits (how precise)\n",
        "x = np.array([1, 2], dtype=np.int64) # 8 bytes\n",
        "print(x.dtype)\n",
        "\n",
        "x = np.array([1, 2], dtype=np.float32) # 4 bytes\n",
        "print(x.dtype)"
      ],
      "metadata": {
        "id": "ZasSWUDjJMcN"
      },
      "execution_count": null,
      "outputs": []
    },
    {
      "cell_type": "code",
      "source": [
        "# copy\n",
        "a = np.array([1,2,3])\n",
        "b = a # only copies reference!\n",
        "b[0] = 42\n",
        "print(a)\n",
        "\n",
        "a = np.array([1,2,3])\n",
        "b = a.copy() # actual copy!\n",
        "b[0] = 42\n",
        "print(a)"
      ],
      "metadata": {
        "id": "9UE1b8zAJQOG"
      },
      "execution_count": null,
      "outputs": []
    },
    {
      "cell_type": "code",
      "source": [
        "#data genration\n",
        "\n",
        "# specific value\n",
        "c = 5 * np.ones((3,3))\n",
        "print(c)\n",
        "c = np.full((3,3),5.0)\n",
        "print(c)\n",
        "# identity\n",
        "d = np.eye(3) #3x3\n",
        "print(d)\n",
        "# linspace\n",
        "f = np.linspace(0, 10, 5)\n",
        "print(f)"
      ],
      "metadata": {
        "id": "olVrKeMFJTrJ"
      },
      "execution_count": null,
      "outputs": []
    },
    {
      "cell_type": "code",
      "source": [
        "# random numbers\n",
        "a = np.random.random((3,2)) # uniform 0-1 distribution\n",
        "print(a)\n",
        "b = np.random.randn(3,2) # normal/Gaussian distribution, mean 0 and unit variance\n",
        "# no tuple as shape here! each dimension one argument\n",
        "print(b)\n",
        "\n",
        "R = np.random.randn(10000)\n",
        "print(R.mean(), R.var(), R.std())\n",
        "\n",
        "R = np.random.randn(10, 3)\n",
        "print(R.mean()) # mean of whole array\n",
        "\n",
        "# random integer, low,high,size; high is exclusive\n",
        "R = np.random.randint(3,10,size=(3,3)) # if we only pass one parameter, then from 0-x\n",
        "print(R)\n",
        "\n",
        "# with integer is between 0 up to integer exclusive\n",
        "c = np.random.choice(7, size=10)\n",
        "print(c)\n",
        "# with an array it draws random values from this array\n",
        "d = np.random.choice([1,2,3,4], size=8)\n",
        "print(d)"
      ],
      "metadata": {
        "id": "cUhPYrI-Jxcy"
      },
      "execution_count": null,
      "outputs": []
    },
    {
      "cell_type": "code",
      "source": [
        "# eigenvalues\n",
        "a = np.array([[1,2], [3,4]])\n",
        "eigenvalues, eigenvectors = np.linalg.eig(a)\n",
        "# Note: use eigh if your matrix is symmetric (faster)\n",
        "print(eigenvalues)\n",
        "print(eigenvectors) # column vectors\n",
        "print(eigenvectors[:,0]) # column 0 corresponding to eigenvalue[0]\n",
        "\n",
        "# verify: e-vec * e-val = A * e-vec\n",
        "d = eigenvectors[:,0] * eigenvalues[0]\n",
        "e = a @ eigenvectors[:, 0]\n",
        "print(d, e)\n",
        "print(d == e) # numerical issues\n",
        "\n",
        "# correct way to compare matrix\n",
        "print(np.allclose(d,e))"
      ],
      "metadata": {
        "id": "hD7rPJhrKVAw"
      },
      "execution_count": null,
      "outputs": []
    },
    {
      "cell_type": "code",
      "source": [
        "# solve linear system\n",
        "# x1+x2=2200\n",
        "# 1.5 x1 + 4 x2 = 5050\n",
        "# 2 equations and 2 unknowns\n",
        "A = np.array([[1, 1], [1.5, 4]])\n",
        "b = np.array([2200,5050])\n",
        "\n",
        "# Ax = b <=> x = A-1 b\n",
        "\n",
        "# But: inverse is slow and less accurate\n",
        "x = np.linalg.inv(A).dot(b) # not recommended\n",
        "print(x)\n",
        "x = np.linalg.solve(A,b) # good\n",
        "print(x)"
      ],
      "metadata": {
        "id": "QVD6N0DXKU4m"
      },
      "execution_count": null,
      "outputs": []
    },
    {
      "cell_type": "markdown",
      "source": [
        "* Save into CSV: https://numpy.org/numpy-tutorials/content/save-load-arrays.html\n",
        "* Load CSV:https://datascienceparichay.com/article/read-csv-file-as-numpy-array/"
      ],
      "metadata": {
        "id": "s-dCAwcuLOM2"
      }
    },
    {
      "cell_type": "code",
      "source": [
        "# loading from csv\n",
        "# just a sample code <don't run>\n",
        "\n",
        "\n",
        "# 1) load with np.loadtxt()\n",
        "# skiprows=1\n",
        "data = np.loadtxt(FILE_NAME, delimiter=\",\",dtype=np.float32)\n",
        "data.astype('int32') # !!!!--------YE IMPORTANT HAI------!!!!\n",
        "print(data.shape, data.dtype)\n",
        "\n",
        "# 2) load with np.genfromtxt()\n",
        "# skip_header=0, missing_values=\"---\", filling_values=0.0\n",
        "data = np.genfromtxt(FILE_NAME, delimiter=\",\", dtype=np.float32)\n",
        "print(data.shape)"
      ],
      "metadata": {
        "id": "Mq2jK8eiKbVh"
      },
      "execution_count": null,
      "outputs": []
    },
    {
      "cell_type": "markdown",
      "source": [
        "* Must read : https://numpy.org/numpy-tutorials/content/tutorial-air-quality-analysis.html\n",
        "\n",
        "Real Life data Analysis of Numpy. Bas toda upar upar se dekhna h!\n",
        "Now you have completed the numpy modeule!"
      ],
      "metadata": {
        "id": "Tq4JrOfrNaBL"
      }
    },
    {
      "cell_type": "markdown",
      "source": [
        "#Pandas\n",
        "* A fast and efficient DataFrame object for data manipulation with integrated indexing.\n",
        "\n",
        "* Tools for reading and writing data between in-memory data structures and different formats: CSV and text files, Microsoft Excel, SQL databases, and the fast HDF5 format.\n",
        "\n",
        "* Resourses:\n",
        "    - Cheatsheet: https://pandas.pydata.org/Pandas_Cheat_Sheet.pdf (Everyone must have printed copy)\n",
        "    - Reference: https://pandas.pydata.org/docs/user_guide/10min.html\n",
        "    - Example data: https://gist.github.com/armgilles/194bcff35001e7eb53a2a8b441e8b2c6 (Upload to Drive!)"
      ],
      "metadata": {
        "id": "CsH4bJQvZZNq"
      }
    },
    {
      "cell_type": "markdown",
      "source": [
        "##Get started\n",
        "Installation in local machine: https://pandas.pydata.org/docs/getting_started/index.html#getting-started"
      ],
      "metadata": {
        "id": "naX9dnoQiN-T"
      }
    },
    {
      "cell_type": "code",
      "source": [
        "!pip install pandas"
      ],
      "metadata": {
        "id": "ky-r6SSNib_a"
      },
      "execution_count": null,
      "outputs": []
    },
    {
      "cell_type": "code",
      "source": [
        "import pandas as pd"
      ],
      "metadata": {
        "id": "-KO4wPnKjBHj"
      },
      "execution_count": null,
      "outputs": []
    },
    {
      "cell_type": "code",
      "source": [
        "#Ctrl + M + Y ---> text to code cell."
      ],
      "metadata": {
        "id": "mNKVJ3S3jZIA"
      },
      "execution_count": null,
      "outputs": []
    },
    {
      "cell_type": "code",
      "source": [
        "#Drive to colab\n",
        "from google.colab import drive\n",
        "drive.mount('/content/drive') #yaha permission lgegi."
      ],
      "metadata": {
        "id": "FfAbV0CtjxR3",
        "colab": {
          "base_uri": "https://localhost:8080/"
        },
        "outputId": "bef70225-6d75-463c-9a48-21c89e45f370"
      },
      "execution_count": null,
      "outputs": [
        {
          "output_type": "stream",
          "name": "stdout",
          "text": [
            "Mounted at /content/drive\n"
          ]
        }
      ]
    },
    {
      "cell_type": "markdown",
      "source": [
        "##Data Creation\n",
        "There are 2 type of data creation:\n",
        "* By Series\n",
        "* By DataFrame"
      ],
      "metadata": {
        "id": "mqXwp4TGzqOG"
      }
    },
    {
      "cell_type": "markdown",
      "source": [
        "###Series\n",
        "Pandas series is a One-dimensional ndarray with axis labels"
      ],
      "metadata": {
        "id": "vOkLMlm93puo"
      }
    },
    {
      "cell_type": "code",
      "source": [
        "import pandas as pd\n",
        "import numpy as np"
      ],
      "metadata": {
        "id": "oY22c_ao0ctV"
      },
      "execution_count": null,
      "outputs": []
    },
    {
      "cell_type": "code",
      "source": [
        "#by Series\n",
        "s = pd\n",
        ".Series([1, 3, 5, np.nan, 6, 8]) #We pass np array in Serires\n",
        "s"
      ],
      "metadata": {
        "id": "YObI_5dhzwT5"
      },
      "execution_count": null,
      "outputs": []
    },
    {
      "cell_type": "code",
      "source": [
        "#Question\n",
        "\n",
        "d = {\"a\": 0.0, \"b\": 1.0, \"c\": 2.0}\n",
        "\n",
        "pd.Series(d)\n",
        "pd.Series(d, index=[\"b\", \"c\", \"d\", \"a\"])"
      ],
      "metadata": {
        "id": "h8v5lNz12722"
      },
      "execution_count": null,
      "outputs": []
    },
    {
      "cell_type": "code",
      "source": [
        "#Now lets create a Series with an index\n",
        "\n",
        "#WW2 casualties\n",
        "ww2_cas = Series([8700000,4300000,3000000,2100000,400000],index=['USSR','Germany','China','Japan','USA'])\n",
        "\n",
        "#Show\n",
        "ww2_cas"
      ],
      "metadata": {
        "id": "EPQZBGzbXJEl"
      },
      "execution_count": null,
      "outputs": []
    },
    {
      "cell_type": "code",
      "source": [
        "#Now we can use index values to select Series values\n",
        "ww2_cas['USA']"
      ],
      "metadata": {
        "id": "HocH46XdXNuu"
      },
      "execution_count": null,
      "outputs": []
    },
    {
      "cell_type": "code",
      "source": [
        "#Can also check with array operations\n",
        "\n",
        "#Check who had casualties greater than 4 million\n",
        "ww2_cas[ww2_cas>4000000]"
      ],
      "metadata": {
        "id": "5X6NKMB0XRd_"
      },
      "execution_count": null,
      "outputs": []
    },
    {
      "cell_type": "code",
      "source": [
        "#Passing a dictionary the index will have the dict keys in order\n",
        "countries = ['China','Germany','Japan','USA','USSR','Argentina']"
      ],
      "metadata": {
        "id": "HAdJO7_9XwDp"
      },
      "execution_count": null,
      "outputs": []
    },
    {
      "cell_type": "code",
      "source": [
        "#Lets redefine a Series\n",
        "obj2 = Series(ww2_dict,index=countries)"
      ],
      "metadata": {
        "id": "XxP8UeLJYL7n"
      },
      "execution_count": null,
      "outputs": []
    },
    {
      "cell_type": "markdown",
      "source": [
        "NaN (not a number) is the standard missing data marker used in pandas."
      ],
      "metadata": {
        "id": "D5sUgoM73Cms"
      }
    },
    {
      "cell_type": "code",
      "source": [
        "#Date frameworks\n",
        "dates = pd.date_range(\"20130101\", periods=6)\n",
        "dates"
      ],
      "metadata": {
        "id": "HEuP2dLO0pg4"
      },
      "execution_count": null,
      "outputs": []
    },
    {
      "cell_type": "code",
      "source": [
        "#By Dict framework\n",
        "\n",
        "#Understand the code.\n",
        "df2 = pd.DataFrame(\n",
        "    {\n",
        "        \"A\": 1.0,\n",
        "        \"B\": pd.Timestamp(\"20130102\"),\n",
        "        \"C\": pd.Series(1, index=list(range(4)), dtype=\"float32\"),\n",
        "        \"D\": np.array([3] * 4, dtype=\"int32\"),\n",
        "        \"E\": pd.Categorical([\"test\", \"train\", \"test\", \"train\"]),\n",
        "        \"F\": \"foo\",\n",
        "    }\n",
        ")\n",
        "df2"
      ],
      "metadata": {
        "id": "tYhLufs20pTq"
      },
      "execution_count": null,
      "outputs": []
    },
    {
      "cell_type": "code",
      "source": [
        "#Bit of Numpy.\n",
        "df2.to_numpy() #--> get converted to numpy array"
      ],
      "metadata": {
        "id": "YDMfdUX_1BJD"
      },
      "execution_count": null,
      "outputs": []
    },
    {
      "cell_type": "markdown",
      "source": [
        "Here is more basic note on some function:\n",
        "* Transpose -> `df.T`\n",
        "* Sorts by an axis -> `DataFrame.sort_index()`\n",
        "* Sorts by values -> `DataFrame.sort_values()`"
      ],
      "metadata": {
        "id": "HbBmAWq41ozM"
      }
    },
    {
      "cell_type": "markdown",
      "source": [
        "###DataFrame\n",
        "A Data frame is a two-dimensional data structure, i.e., data is aligned in a tabular fashion in rows and columns."
      ],
      "metadata": {
        "id": "dwRZsqd434Kp"
      }
    },
    {
      "cell_type": "code",
      "source": [
        "#As dict or dict of series\n",
        "d = {\n",
        "    \"one\": pd.Series([1.0, 2.0, 3.0], index=[\"a\", \"b\", \"c\"]),\n",
        "    \"two\": pd.Series([1.0, 2.0, 3.0, 4.0], index=[\"a\", \"b\", \"c\", \"d\"]),\n",
        "}\n",
        "\n",
        "\n",
        "df = pd.DataFrame(d)\n",
        "\n",
        "df"
      ],
      "metadata": {
        "id": "C7413GI-4DJS"
      },
      "execution_count": null,
      "outputs": []
    },
    {
      "cell_type": "code",
      "source": [
        "d = {\"one\": [1.0, 2.0, 3.0, 4.0], \"two\": [4.0, 3.0, 2.0, 1.0]}\n",
        "\n",
        "k = pd.DataFrame(d)\n",
        "k = pd.DataFrame(d, index=[\"a\", \"b\", \"c\", \"d\"])\n",
        "k"
      ],
      "metadata": {
        "id": "Pl9HjT3B4o3L"
      },
      "execution_count": null,
      "outputs": []
    },
    {
      "cell_type": "code",
      "source": [
        "#<Let's create our own.>"
      ],
      "metadata": {
        "id": "58kb4-XH4a_I"
      },
      "execution_count": null,
      "outputs": []
    },
    {
      "cell_type": "code",
      "source": [
        "#Now we'll learn DataFrames\n",
        "\n",
        "#Let's get some data to play with. How about the NFL?\n",
        "import webbrowser\n",
        "website = 'http://en.wikipedia.org/wiki/NFL_win-loss_records'\n",
        "webbrowser.open(website)"
      ],
      "metadata": {
        "id": "h8ANbyO6bhyE"
      },
      "execution_count": null,
      "outputs": []
    },
    {
      "cell_type": "code",
      "source": [
        "#Copy and read to get data\n",
        "nfl_frame = pd.read_clipboard()"
      ],
      "metadata": {
        "id": "g2Ax7CyXbifp"
      },
      "execution_count": null,
      "outputs": []
    },
    {
      "cell_type": "code",
      "source": [
        "#Show\n",
        "nfl_frame"
      ],
      "metadata": {
        "id": "uuKLdGqUblQm"
      },
      "execution_count": null,
      "outputs": []
    },
    {
      "cell_type": "code",
      "source": [
        "# We can grab the oclumn names with .columns\n",
        "nfl_frame.columns"
      ],
      "metadata": {
        "id": "LBxLdsqnbrtR"
      },
      "execution_count": null,
      "outputs": []
    },
    {
      "cell_type": "code",
      "source": [
        "#What happens if we ask for a column that doesn't exist?\n",
        "DataFrame(nfl_frame,columns=['Team','First Season','Total Games','Stadium'])"
      ],
      "metadata": {
        "id": "hZAcmBnof4w9"
      },
      "execution_count": null,
      "outputs": []
    },
    {
      "cell_type": "code",
      "source": [
        "np.zeros((2,)) #Recap!"
      ],
      "metadata": {
        "id": "owt94RzX6v5O"
      },
      "execution_count": null,
      "outputs": []
    },
    {
      "cell_type": "code",
      "source": [
        "data = np.zeros((2,), dtype=[(\"A\", \"i4\"), (\"B\", \"f4\"), (\"C\", \"a10\")])\n",
        "data[:] = [(1, 2.0, \"Hello\"), (2, 3.0, \"World\")]\n",
        "\n",
        "pd.DataFrame(data)"
      ],
      "metadata": {
        "id": "8uJhoKXW6a94"
      },
      "execution_count": null,
      "outputs": []
    },
    {
      "cell_type": "code",
      "source": [
        "pd.DataFrame(data, index=[\"first\", \"second\"])\n",
        "pd.DataFrame(data, columns=[\"C\", \"A\", \"B\"])"
      ],
      "metadata": {
        "id": "cHMa_97u64dl"
      },
      "execution_count": null,
      "outputs": []
    },
    {
      "cell_type": "code",
      "source": [
        "#From list of dicts\n",
        "data2 = [{\"a\": 1, \"b\": 2}, {\"a\": 5, \"b\": 10, \"c\": 20}]\n",
        "pd.DataFrame(data2)"
      ],
      "metadata": {
        "id": "HjyVoNzZ7EzR"
      },
      "execution_count": null,
      "outputs": []
    },
    {
      "cell_type": "code",
      "source": [
        "d.DataFrame(data2, index=[\"first\", \"second\"]) #You tell me."
      ],
      "metadata": {
        "id": "Ea9nN8Av7Qed"
      },
      "execution_count": null,
      "outputs": []
    },
    {
      "cell_type": "code",
      "source": [
        "#     one     two    three\n",
        "#     a  1.0  1.0    1.0\n",
        "#     b  2.0  2.0    4.0\n",
        "#     c  3.0  3.0    9.0\n",
        "#     d  NaN  4.0    NaN\n",
        "\n",
        "#Create this df"
      ],
      "metadata": {
        "id": "U-K8gZZh7l4c"
      },
      "execution_count": null,
      "outputs": []
    },
    {
      "cell_type": "code",
      "source": [
        "#With a DataFrame we can drop values from either axis\n",
        "dframe1 = DataFrame(np.arange(9).reshape((3,3)),index=['SF','LA','NY'],columns=['pop','size','year'])\n",
        "\n",
        "#Show (remember just random values)\n",
        "dframe1"
      ],
      "metadata": {
        "id": "qMAgasDVkMXo"
      },
      "execution_count": null,
      "outputs": []
    },
    {
      "cell_type": "code",
      "source": [
        "#Now dropping a row\n",
        "dframe1.drop('LA')"
      ],
      "metadata": {
        "id": "kvPmZoXckQnu"
      },
      "execution_count": null,
      "outputs": []
    },
    {
      "cell_type": "markdown",
      "source": [
        "##Oprations on df"
      ],
      "metadata": {
        "id": "WseWQCeL82HV"
      }
    },
    {
      "cell_type": "code",
      "source": [
        "#Create a new series to play with\n",
        "ser1 = Series(np.arange(3),index=['a','b','c'])\n",
        "\n",
        "#Show\n",
        "ser1\n",
        "\n",
        "#Now let's drop an index\n",
        "ser1.drop('b')"
      ],
      "metadata": {
        "id": "G_USLs-mkBgC"
      },
      "execution_count": null,
      "outputs": []
    },
    {
      "cell_type": "code",
      "source": [
        "df[\"three\"] = df[\"one\"] * df[\"two\"]\n",
        "df[\"flag\"] = df[\"one\"] > 2\n",
        "\n",
        "df[\"Sum net\"] = df['one']+df['two']+df['three']"
      ],
      "metadata": {
        "id": "fyvMZUmQ7-9t"
      },
      "execution_count": null,
      "outputs": []
    },
    {
      "cell_type": "code",
      "source": [
        "df[\"two\"]\n",
        "three = df.pop(\"three\")\n",
        "df"
      ],
      "metadata": {
        "id": "LZeHZrnO8x5C"
      },
      "execution_count": null,
      "outputs": []
    },
    {
      "cell_type": "code",
      "source": [
        "df = pd.DataFrame(np.random.randn(10, 4), columns=[\"A\", \"B\", \"C\", \"D\"])\n",
        "df2 = pd.DataFrame(np.random.randn(7, 3), columns=[\"A\", \"B\", \"C\"])\n",
        "\n",
        "df + df2"
      ],
      "metadata": {
        "id": "SDkpTZ3P9Zk0"
      },
      "execution_count": null,
      "outputs": []
    },
    {
      "cell_type": "code",
      "source": [
        "#Below code is for you.\n",
        "\n",
        "# df1 = pd.DataFrame({\"a\": [1, 0, 1], \"b\": [0, 1, 1]}, dtype=bool)\n",
        "\n",
        "# df2 = pd.DataFrame({\"a\": [0, 1, 1], \"b\": [1, 1, 0]}, dtype=bool)\n",
        "\n",
        "# df1 & df2\n",
        "# Out[103]:\n",
        "#        a      b\n",
        "# 0  False  False\n",
        "# 1  False   True\n",
        "# 2   True  False\n",
        "\n",
        "# df1 | df2\n",
        "# Out[104]:\n",
        "#       a     b\n",
        "# 0  True  True\n",
        "# 1  True  True\n",
        "# 2  True  True\n",
        "\n",
        "# df1 ^ df2\n",
        "# Out[105]:\n",
        "#        a      b\n",
        "# 0   True   True\n",
        "# 1   True  False\n",
        "# 2  False   True\n",
        "\n",
        "# -df1\n",
        "# Out[106]:\n",
        "#        a      b\n",
        "# 0  False   True\n",
        "# 1   True  False\n",
        "# 2  False  False"
      ],
      "metadata": {
        "id": "8sHofwFC9bnJ"
      },
      "execution_count": null,
      "outputs": []
    },
    {
      "cell_type": "markdown",
      "source": [
        "##Indexing & Selection\n",
        "Most important thing is loc and iloc.\n",
        "* Refer. :https://www.youtube.com/watch?v=JSp5W3G-zeM\n",
        "* Do check out the video."
      ],
      "metadata": {
        "id": "oWjbmusZ9EZJ"
      }
    },
    {
      "cell_type": "code",
      "source": [
        "# Create a DataFrame\n",
        "data = {'Name': ['John', 'Jane', 'Mike', 'Lisa'],\n",
        "        'Age': [25, 30, 35, 28],\n",
        "        'City': ['New York', 'London', 'Paris', 'Tokyo']}\n",
        "df = pd.DataFrame(data)\n",
        "\n",
        "# Selecting specific rows and columns using loc\n",
        "selected_data = df.loc[[0, 2], ['Name', 'Age']]"
      ],
      "metadata": {
        "id": "H00UsOlF9M8M"
      },
      "execution_count": null,
      "outputs": []
    },
    {
      "cell_type": "markdown",
      "source": [
        "##Stat"
      ],
      "metadata": {
        "id": "qhqq079zl3B9"
      }
    },
    {
      "cell_type": "code",
      "source": [
        "#Let's create a dataframe to work with\n",
        "arr = np.array([[1,2,np.nan],[np.nan,3,4]])\n",
        "dframe1 = DataFrame(arr,index=['A','B'],columns = ['One','Two','Three'])\n",
        "\n",
        "#Show\n",
        "dframe1"
      ],
      "metadata": {
        "id": "MiAhzy7Jl8uo"
      },
      "execution_count": null,
      "outputs": []
    },
    {
      "cell_type": "code",
      "source": [
        "#We can also over rows instead of columns\n",
        "dframe1.sum(axis=1)"
      ],
      "metadata": {
        "id": "hHJngibVl9ao"
      },
      "execution_count": null,
      "outputs": []
    },
    {
      "cell_type": "code",
      "source": [
        "#Can also grab min and max values of dataframe\n",
        "dframe1.min()"
      ],
      "metadata": {
        "id": "EMYeJJa1mVLy"
      },
      "execution_count": null,
      "outputs": []
    },
    {
      "cell_type": "code",
      "source": [
        "#A very useful feature is describe, which provides summary statistics\n",
        "dframe1.describe()"
      ],
      "metadata": {
        "id": "CQddDibImZ9N"
      },
      "execution_count": null,
      "outputs": []
    },
    {
      "cell_type": "markdown",
      "source": [
        "https://www.youtube.com/watch?v=xGbpuFNR1ME --> CoVarience referance."
      ],
      "metadata": {
        "id": "Ukwwbwf0ms2K"
      }
    },
    {
      "cell_type": "markdown",
      "source": [
        "##Missing values"
      ],
      "metadata": {
        "id": "nzr4baJKmy7T"
      }
    },
    {
      "cell_type": "code",
      "source": [
        "#Now we'll learn how to deal with missing data, a very common task when analyzing datasets!\n",
        "\n",
        "data = Series(['one','two', np.nan, 'four'])"
      ],
      "metadata": {
        "id": "oQJJcsKknBbM"
      },
      "execution_count": null,
      "outputs": []
    },
    {
      "cell_type": "code",
      "source": [
        "#Find the missing values\n",
        "data.isnull()"
      ],
      "metadata": {
        "id": "piTJZDuxnFx6"
      },
      "execution_count": null,
      "outputs": []
    },
    {
      "cell_type": "code",
      "source": [
        "#We can simply drop the NAN\n",
        "data.dropna()"
      ],
      "metadata": {
        "id": "q2Nh_5YjnK0j"
      },
      "execution_count": null,
      "outputs": []
    },
    {
      "cell_type": "code",
      "source": [
        "# In a DataFrame we need to be a little more careful!\n",
        "\n",
        "dframe = DataFrame([[1,2,3],[np.nan,5,6],[7,np.nan,9],[np.nan,np.nan,np.nan]])"
      ],
      "metadata": {
        "id": "xvVBSnObnMy4"
      },
      "execution_count": null,
      "outputs": []
    },
    {
      "cell_type": "code",
      "source": [
        "#Show\n",
        "dframe"
      ],
      "metadata": {
        "id": "BqL6a8S8nUy5"
      },
      "execution_count": null,
      "outputs": []
    },
    {
      "cell_type": "code",
      "source": [
        "clean_dframe = dframe.dropna()"
      ],
      "metadata": {
        "id": "fySryKAEnUon"
      },
      "execution_count": null,
      "outputs": []
    },
    {
      "cell_type": "code",
      "source": [
        "#We can also specify to only drop rows that are complete missing all data\n",
        "dframe.dropna(how='all')"
      ],
      "metadata": {
        "id": "7dg_BSapneNa"
      },
      "execution_count": null,
      "outputs": []
    },
    {
      "cell_type": "code",
      "source": [
        "#Or we can specify to drop columns with missing data\n",
        "dframe.dropna(axis=1)\n",
        "\n",
        "#This should drop all columns out since every column contains at least 1 NAN"
      ],
      "metadata": {
        "id": "Ar-lajaKnfYq"
      },
      "execution_count": null,
      "outputs": []
    },
    {
      "cell_type": "code",
      "source": [
        "#We can also threshold teh missing data as well\n",
        "\n",
        "#For example if we only want rows with at least 3 data points\n",
        "dframe2 = DataFrame([[1,2,3,np.nan],[2,np.nan,5,6],[np.nan,7,np.nan,9],[1,np.nan,np.nan,np.nan]])\n",
        "\n",
        "#Show\n",
        "dframe2"
      ],
      "metadata": {
        "id": "R1Gp3kRRnjsZ"
      },
      "execution_count": null,
      "outputs": []
    },
    {
      "cell_type": "code",
      "source": [
        "#Droppin any rows tht dont have at least 2 data points\n",
        "dframe2.dropna(thresh=2)"
      ],
      "metadata": {
        "id": "RY_m-A9TnukK"
      },
      "execution_count": null,
      "outputs": []
    },
    {
      "cell_type": "code",
      "source": [
        "#We can also fill any NAN\n",
        "dframe2.fillna(1)"
      ],
      "metadata": {
        "id": "m5qJFJYdnyyb"
      },
      "execution_count": null,
      "outputs": []
    },
    {
      "cell_type": "code",
      "source": [
        "#Can also fill in diff values for diff columns\n",
        "dframe2.fillna({0:0,1:1,2:2,3:3})"
      ],
      "metadata": {
        "id": "Dlwvj3umn2LV"
      },
      "execution_count": null,
      "outputs": []
    },
    {
      "cell_type": "code",
      "source": [
        "# Lets make  Series\n",
        "ser1 = Series([1,2,3,4,1,2,3,4])\n",
        "#Show\n",
        "ser1"
      ],
      "metadata": {
        "id": "XZgfGMQTqYwO"
      },
      "execution_count": null,
      "outputs": []
    },
    {
      "cell_type": "code",
      "source": [
        "# Using replace we can select --> .replace(value to be replaced, new_value)\n",
        "ser1.replace(1,np.nan)"
      ],
      "metadata": {
        "id": "E3HlanaGqX2B"
      },
      "execution_count": null,
      "outputs": []
    },
    {
      "cell_type": "code",
      "source": [
        "#Can also input lists\n",
        "ser1.replace([1,4],[100,400])"
      ],
      "metadata": {
        "id": "ASbi03ZHquun"
      },
      "execution_count": null,
      "outputs": []
    },
    {
      "cell_type": "code",
      "source": [
        "#Can also input dictionary\n",
        "ser1.replace({4:np.nan})"
      ],
      "metadata": {
        "id": "T61SsZYyqypl"
      },
      "execution_count": null,
      "outputs": []
    },
    {
      "cell_type": "markdown",
      "source": [
        "##Read\n",
        "There are different ways, You need to master this part."
      ],
      "metadata": {
        "id": "nhXWQf6elS00"
      }
    },
    {
      "cell_type": "code",
      "source": [
        "myfile = pd.read_csv('/content/pokemon.csv')"
      ],
      "metadata": {
        "id": "uIPr9f_xg0an"
      },
      "execution_count": null,
      "outputs": []
    },
    {
      "cell_type": "code",
      "source": [
        "# df_xlsx = pd.read_excel('pokemon_data.xlsx')\n",
        "# print(df_xlsx.head(3))\n",
        "\n",
        "# df = pd.read_csv('pokemon_data.txt', delimiter='\\t')\n",
        "# print(df.head(5))"
      ],
      "metadata": {
        "id": "YFvfYTSxh4vY"
      },
      "execution_count": null,
      "outputs": []
    },
    {
      "cell_type": "code",
      "source": [
        "myfile.head(10)"
      ],
      "metadata": {
        "id": "DbsVsysOhxab"
      },
      "execution_count": null,
      "outputs": []
    },
    {
      "cell_type": "code",
      "source": [
        "myfile.describe()"
      ],
      "metadata": {
        "id": "OfsFyBpo1vF9"
      },
      "execution_count": null,
      "outputs": []
    },
    {
      "cell_type": "code",
      "source": [
        "myfile['Speed']"
      ],
      "metadata": {
        "id": "FQjVt2YXiQbc"
      },
      "execution_count": null,
      "outputs": []
    },
    {
      "cell_type": "code",
      "source": [
        "#### Read Headers\n",
        "print(myfile.columns)\n",
        "\n",
        "## Read each Column\n",
        "print(myfile[['Name', 'Type 1', 'HP']])\n",
        "\n",
        "## Read Each Row\n",
        "print(myfile.iloc[0:4])\n",
        "\n",
        "print(myfile.loc[myfile['Type 1'] == \"Grass\"])\n",
        "\n",
        "## Read a specific location (R,C)\n",
        "print(myfile.iloc[2,1])"
      ],
      "metadata": {
        "id": "vn_ga1XojJBe"
      },
      "execution_count": null,
      "outputs": []
    },
    {
      "cell_type": "code",
      "source": [
        "myfile.loc[(myfile['Legendary'] == True) and (myfile['Type 1'] == \"Electric\")] #Solve the error."
      ],
      "metadata": {
        "id": "-h9o-e-ejqQV"
      },
      "execution_count": null,
      "outputs": []
    },
    {
      "cell_type": "code",
      "source": [
        "myfile.loc[(myfile['speed'] >= '100')] #Solve the error."
      ],
      "metadata": {
        "id": "RTdwO6W0m4Bt"
      },
      "execution_count": null,
      "outputs": []
    },
    {
      "cell_type": "code",
      "source": [
        "m = myfile[:5]\n",
        "m"
      ],
      "metadata": {
        "id": "Qv9ZJD1VyZ_v"
      },
      "execution_count": null,
      "outputs": []
    },
    {
      "cell_type": "code",
      "source": [
        "#Sorting the data\n",
        "myfile.sort_values(['Type 1', 'HP'], ascending=[1,0])\n",
        "myfile"
      ],
      "metadata": {
        "id": "BD7cSXbj4_Em"
      },
      "execution_count": null,
      "outputs": []
    },
    {
      "cell_type": "markdown",
      "source": [
        "###Manupluation of DataFrame."
      ],
      "metadata": {
        "id": "pEHIT5TW5PPM"
      }
    },
    {
      "cell_type": "code",
      "source": [
        "df = myfile"
      ],
      "metadata": {
        "id": "CkJSI7xm5bw0"
      },
      "execution_count": null,
      "outputs": []
    },
    {
      "cell_type": "code",
      "source": [
        "#df['Total'] = df['HP'] + df['Attack'] + df['Defense'] + df['Sp. Atk'] + df['Sp. Def'] + df['Speed']\n",
        "\n",
        "# df = df.drop(columns=['Total'])\n",
        "\n",
        "df['Total'] = df.iloc[:, 4:10].sum(axis=1)\n",
        "\n",
        "cols = list(df.columns)\n",
        "df = df[cols[0:4] + [cols[-1]]+cols[4:12]]\n",
        "\n",
        "df.head(5)"
      ],
      "metadata": {
        "id": "FFk_f8505WSv"
      },
      "execution_count": null,
      "outputs": []
    },
    {
      "cell_type": "code",
      "source": [
        "#Save the changes.\n",
        "df.to_csv('modified.txt', index=False, sep='\\t')"
      ],
      "metadata": {
        "id": "FrR6pOlF5ezc"
      },
      "execution_count": null,
      "outputs": []
    },
    {
      "cell_type": "markdown",
      "source": [
        "###Working with the large data.\n",
        "The following is for only the student. I not going to touch it. Understand it on tour own pace."
      ],
      "metadata": {
        "id": "xhfyCpyj5uXL"
      }
    },
    {
      "cell_type": "code",
      "source": [
        "new_df = pd.DataFrame(columns=df.columns)\n",
        "\n",
        "for df in pd.read_csv('modified.csv', chunksize=5):\n",
        "    results = df.groupby(['Type 1']).count()\n",
        "\n",
        "    new_df = pd.concat([new_df, results])"
      ],
      "metadata": {
        "id": "f0ElJFAJ53S1"
      },
      "execution_count": null,
      "outputs": []
    },
    {
      "cell_type": "markdown",
      "source": [
        "##Ploting the data"
      ],
      "metadata": {
        "id": "pmZncq57zj0x"
      }
    },
    {
      "cell_type": "code",
      "source": [
        "import matplotlib.pyplot as plt\n",
        "\n",
        "plt.plot(m['Name'],m['Attack'])"
      ],
      "metadata": {
        "id": "Aehy3XR-nh76"
      },
      "execution_count": null,
      "outputs": []
    },
    {
      "cell_type": "code",
      "source": [
        "electric = (myfile['Type 1'] == \"Electric\")\n",
        "electric.shape"
      ],
      "metadata": {
        "colab": {
          "base_uri": "https://localhost:8080/"
        },
        "id": "VqbiQKgSz242",
        "outputId": "a67f1f1e-cb4d-43cc-f67e-5f795aa60a61"
      },
      "execution_count": null,
      "outputs": [
        {
          "output_type": "execute_result",
          "data": {
            "text/plain": [
              "(800,)"
            ]
          },
          "metadata": {},
          "execution_count": 23
        }
      ]
    },
    {
      "cell_type": "code",
      "source": [
        "dups = myfile.pivot_table(index = ['Type 1'], aggfunc ='size')\n",
        "dups"
      ],
      "metadata": {
        "colab": {
          "base_uri": "https://localhost:8080/"
        },
        "id": "ed7WPvmE0u1q",
        "outputId": "dee9719f-5b5a-4e48-a25a-1b5dbcfbc22e"
      },
      "execution_count": null,
      "outputs": [
        {
          "output_type": "execute_result",
          "data": {
            "text/plain": [
              "Type 1\n",
              "Bug          69\n",
              "Dark         31\n",
              "Dragon       32\n",
              "Electric     44\n",
              "Fairy        17\n",
              "Fighting     27\n",
              "Fire         52\n",
              "Flying        4\n",
              "Ghost        32\n",
              "Grass        70\n",
              "Ground       32\n",
              "Ice          24\n",
              "Normal       98\n",
              "Poison       28\n",
              "Psychic      57\n",
              "Rock         44\n",
              "Steel        27\n",
              "Water       112\n",
              "dtype: int64"
            ]
          },
          "metadata": {},
          "execution_count": 36
        }
      ]
    },
    {
      "cell_type": "code",
      "source": [
        "import matplotlib.pyplot as plt\n",
        "\n",
        "dups = myfile.pivot_table(index=['Type 1'], aggfunc='size')\n",
        "\n",
        "# Plotting the histogram\n",
        "plt.bar(dups.index, dups.values)\n",
        "plt.xlabel('Type 1')\n",
        "plt.ylabel('Count')\n",
        "plt.title('Frequency of Pokemon Types')\n",
        "plt.xticks(rotation=90)\n",
        "plt.show()"
      ],
      "metadata": {
        "colab": {
          "base_uri": "https://localhost:8080/",
          "height": 513
        },
        "id": "4eiVm0gW46EX",
        "outputId": "f730fa8d-13b6-4586-d3a5-361eb194b067"
      },
      "execution_count": null,
      "outputs": [
        {
          "output_type": "display_data",
          "data": {
            "text/plain": [
              "<Figure size 640x480 with 1 Axes>"
            ],
            "image/png": "[encoded data removed]"
          },
          "metadata": {}
        }
      ]
    }
  ],
  "metadata": {
    "colab": {
      "provenance": [],
      "toc_visible": true
    },
    "kernelspec": {
      "display_name": "Python 3",
      "name": "python3"
    },
    "language_info": {
      "name": "python"
    }
  },
  "nbformat": 4,
  "nbformat_minor": 0
}